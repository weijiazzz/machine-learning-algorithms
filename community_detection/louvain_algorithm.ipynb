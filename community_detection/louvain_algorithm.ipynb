{
 "cells": [
  {
   "cell_type": "markdown",
   "metadata": {},
   "source": [
    "# The Louvain Algorithm for Community Detection"
   ]
  },
  {
   "cell_type": "markdown",
   "metadata": {},
   "source": [
    "The file *youtube_community_top1000.txt* contains the top 1000 ground-truth communities. For each community scoring function $f$, we rank the ground-truth communities by decreasing score of $f$. So, lower values of rank correspond to the “better” communities by each scoring function, whereas higher values of rank correspond to the “worse” communities under each scoring function. We measure the cumulative running average value of the goodness metric g of the top-$k$ ground-truth communities under the ordering induced by $f$. Intuitively, a perfect community scoring function would rank the communities in decreasing order of the goodness metric, and thus the cumulative running average of the goodness metric would decrease monotonically with $k$.\n"
   ]
  },
  {
   "cell_type": "code",
   "execution_count": 1,
   "metadata": {},
   "outputs": [],
   "source": [
    "import networkx as nx\n",
    "import numpy as np\n",
    "import pandas as pd\n",
    "# pip install python-louvain\n",
    "import community\n",
    "import matplotlib.pyplot as plt"
   ]
  },
  {
   "cell_type": "code",
   "execution_count": 3,
   "metadata": {},
   "outputs": [],
   "source": [
    "def read_network(data):\n",
    "    g = nx.read_edgelist(data, create_using=nx.Graph())\n",
    "    return g\n",
    "\n",
    "def read_true_community(data):\n",
    "    with open(data) as f:\n",
    "        c = [line.rstrip().split('\\t') for line in f]\n",
    "    return c\n",
    "\n",
    "def community_modularity(coms, g):\n",
    "    if type(g) != nx.Graph:\n",
    "        raise TypeError(\"Bad graph type, use only non directed graph\")\n",
    "    inc = 0\n",
    "    deg = 0\n",
    "    links = g.size()\n",
    "    if links == 0:\n",
    "        raise ValueError(\"A graph without link has an undefined modularity\")\n",
    "\n",
    "    for node in g:\n",
    "        if node not in coms:\n",
    "            continue\n",
    "        for neighbor, dt in g[node].items():\n",
    "            if neighbor not in coms:\n",
    "                continue\n",
    "            if neighbor == node:\n",
    "                # YOUR CODE HERE\n",
    "                inc += 0\n",
    "            else:\n",
    "                # YOUR CODE HERE\n",
    "                inc += 1\n",
    "    \n",
    "    degs = [G.degree(i) for i in part]\n",
    "    deg += sum([i*j for i in degs for j in degs])\n",
    "    m = g.size()\n",
    "\n",
    "    # YOUR CODE HERE\n",
    "    Q = inc/(2*m) - deg/(4*m**2)\n",
    "    return Q\n",
    "\n",
    "def community_modularity(coms, g):\n",
    "    if type(g) != nx.Graph:\n",
    "        raise TypeError(\"Bad graph type, use only non directed graph\")\n",
    "    inc = 0\n",
    "    deg = 0\n",
    "    links = g.size()\n",
    "    if links == 0:\n",
    "        raise ValueError(\"A graph without link has an undefined modularity\")\n",
    "        \n",
    "    for node in coms:\n",
    "        deg += g.degree(node)\n",
    "        for neighbor, dt in g[node].items():\n",
    "            if neighbor not in coms:\n",
    "                continue\n",
    "            if neighbor == node:\n",
    "                # YOUR CODE HERE\n",
    "                inc += 0\n",
    "            else:\n",
    "                # YOUR CODE HERE\n",
    "                inc += 1\n",
    "    \n",
    "    m = g.size()\n",
    "\n",
    "    # YOUR CODE HERE\n",
    "    Q = inc/(2*m) - deg**2/(4*m**2)\n",
    "    return Q\n",
    "\n",
    "def modularity(g, coms):\n",
    "    part = {}\n",
    "    ids = 0\n",
    "    for n in coms:\n",
    "        part[n] = ids\n",
    "    mod = community_modularity(part, g)\n",
    "    return mod\n",
    "\n",
    "def density(coms):\n",
    "    # YOUR CODE HERE\n",
    "    ns = len(coms.nodes())\n",
    "    ms = coms.size()\n",
    "    den = (2*ms) / (ns*(ns-1))\n",
    "    return den\n",
    "\n",
    "def cut_ratio(g, coms):\n",
    "    ns = len(coms.nodes())\n",
    "    n_tot = len(g.nodes())\n",
    "    edges = 0\n",
    "    for n in coms.nodes():\n",
    "    \t# YOUR CODE HERE\n",
    "        edges += g.degree(n)\n",
    "    ms = coms.size()\n",
    "    cs = edges - 2*ms\n",
    "    ratio = cs/(ns*(n_tot-ns))\n",
    "    return ratio\n",
    "\n",
    "def pquality_summary(graph, partition):\n",
    "    mods, conds, dens, crs = [], [], [], []\n",
    "    for cs in partition:\n",
    "        if len(cs) > 1:\n",
    "            community = graph.subgraph(cs)\n",
    "            mods.append(modularity(graph, community))\n",
    "            dens.append(density(community))\n",
    "            crs.append(cut_ratio(graph,community))\n",
    "            #Uncomment the next 4 lines for the sanity check:\n",
    "            if cs == partition[0]:\n",
    "               print(mods[-1])\n",
    "               print(crs[-1])\n",
    "               print(dens[-1])\n",
    "    return [mods, crs, dens]"
   ]
  },
  {
   "cell_type": "code",
   "execution_count": 4,
   "metadata": {},
   "outputs": [
    {
     "name": "stdout",
     "output_type": "stream",
     "text": [
      "2.1480581525602115e-05\n",
      "0.00013937984765946497\n",
      "0.036210317460317464\n"
     ]
    },
    {
     "data": {
      "image/png": "[encoded data removed]",
      "text/plain": [
       "<Figure size 432x288 with 1 Axes>"
      ]
     },
     "metadata": {
      "needs_background": "light"
     },
     "output_type": "display_data"
    }
   ],
   "source": [
    "G = read_network('youtube_net.txt')\n",
    "C = read_true_community(\"youtube_community_top1000.txt\")\n",
    "len_C = np.array([len(x) for x in C])\n",
    "partition = C\n",
    "mods, crs, dens = pquality_summary(G, partition)\n",
    "mods_sort, den_sort_mods = zip(*sorted(zip(mods, dens), reverse=True))\n",
    "crs_sort, den_sort_crs = zip(*sorted(zip(crs, dens), reverse=False))\n",
    "den_sort_mods_avg = [np.mean(den_sort_mods[0:(i+1)]) for i in range(len(den_sort_mods))]\n",
    "den_sort_crs_avg = [np.mean(den_sort_crs[0:(i+1)]) for i in range(len(den_sort_crs))]\n",
    "ax = plt.gca()\n",
    "ax.set_xlim(10**0, 10**3)\n",
    "ax.set_xscale('log')\n",
    "ax.plot(np.array([i for i in range(1000)]), np.array(den_sort_mods_avg), color='green', label='Modularity')\n",
    "ax.plot(np.array([i for i in range(1000)]), np.array(den_sort_crs_avg), color='blue', label='Cut Ratio')\n",
    "plt.title('Density')\n",
    "plt.legend()\n",
    "plt.xlabel('rank')\n",
    "plt.ylabel('score')\n",
    "plt.savefig(\"density.png\")"
   ]
  }
 ],
 "metadata": {
  "kernelspec": {
   "display_name": "Python 3",
   "language": "python",
   "name": "python3"
  },
  "language_info": {
   "codemirror_mode": {
    "name": "ipython",
    "version": 3
   },
   "file_extension": ".py",
   "mimetype": "text/x-python",
   "name": "python",
   "nbconvert_exporter": "python",
   "pygments_lexer": "ipython3",
   "version": "3.7.6"
  }
 },
 "nbformat": 4,
 "nbformat_minor": 4
}
