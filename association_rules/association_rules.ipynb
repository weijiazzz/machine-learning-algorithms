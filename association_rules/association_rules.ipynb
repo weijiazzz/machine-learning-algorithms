{
 "cells": [
  {
   "cell_type": "markdown",
   "metadata": {},
   "source": [
    "# Association Rules"
   ]
  },
  {
   "cell_type": "markdown",
   "metadata": {},
   "source": [
    "Associatio rules are frequently used for Market Basket Analysis (MBA) by retailers to understand the purchase behavior of their customers. This information can be then used for many different purposes such as cross-selling and up-selling of product, sales promotions, loyalty programs, store design, discount plans and many others"
   ]
  },
  {
   "cell_type": "markdown",
   "metadata": {},
   "source": [
    "**Evaluation of item set**: Once you have found the frequent itemsets of a dataset, you need to choose a subset of them as your recommendations. "
   ]
  },
  {
   "cell_type": "code",
   "execution_count": null,
   "metadata": {
    "colab": {
     "base_uri": "https://localhost:8080/",
     "height": 292
    },
    "id": "VBDGWVhMxXJM",
    "outputId": "029f34c6-b74a-4da7-88e7-31fd3e9420e8"
   },
   "outputs": [
    {
     "name": "stdout",
     "output_type": "stream",
     "text": [
      "Collecting pyspark\n",
      "\u001b[?25l  Downloading https://files.pythonhosted.org/packages/9a/5a/271c416c1c2185b6cb0151b29a91fff6fcaed80173c8584ff6d20e46b465/pyspark-2.4.5.tar.gz (217.8MB)\n",
      "\u001b[K     |████████████████████████████████| 217.8MB 63kB/s \n",
      "\u001b[?25hCollecting py4j==0.10.7\n",
      "\u001b[?25l  Downloading https://files.pythonhosted.org/packages/e3/53/c737818eb9a7dc32a7cd4f1396e787bd94200c3997c72c1dbe028587bd76/py4j-0.10.7-py2.py3-none-any.whl (197kB)\n",
      "\u001b[K     |████████████████████████████████| 204kB 48.1MB/s \n",
      "\u001b[?25hBuilding wheels for collected packages: pyspark\n",
      "  Building wheel for pyspark (setup.py) ... \u001b[?25l\u001b[?25hdone\n",
      "  Created wheel for pyspark: filename=pyspark-2.4.5-py2.py3-none-any.whl size=218257927 sha256=81fdccb64a81cf9ebdfc63600a4121daa7b3e36025c35a3a75a44a47f3c4349a\n",
      "  Stored in directory: /root/.cache/pip/wheels/bf/db/04/61d66a5939364e756eb1c1be4ec5bdce6e04047fc7929a3c3c\n",
      "Successfully built pyspark\n",
      "Installing collected packages: py4j, pyspark\n",
      "Successfully installed py4j-0.10.7 pyspark-2.4.5\n",
      "openjdk-8-jdk-headless is already the newest version (8u242-b08-0ubuntu3~18.04).\n",
      "0 upgraded, 0 newly installed, 0 to remove and 25 not upgraded.\n"
     ]
    }
   ],
   "source": [
    "!pip install pyspark\n",
    "!pip install -U -q PyDrive\n",
    "!apt install openjdk-8-jdk-headless -qq\n",
    "import os\n",
    "os.environ[\"JAVA_HOME\"] = \"/usr/lib/jvm/java-8-openjdk-amd64\""
   ]
  },
  {
   "cell_type": "code",
   "execution_count": null,
   "metadata": {
    "id": "mKN0g3-lMzgd"
   },
   "outputs": [],
   "source": [
    "from pyspark.sql import *\n",
    "from pyspark.sql.functions import *\n",
    "from pyspark import SparkContext\n",
    "import pandas as pd\n",
    "\n",
    "# create the Spark Session\n",
    "spark = SparkSession.builder.getOrCreate()\n",
    "\n",
    "# create the Spark Context\n",
    "sc = spark.sparkContext"
   ]
  },
  {
   "cell_type": "markdown",
   "metadata": {
    "id": "3bdCnEzAJEd_"
   },
   "source": [
    "## A-prior Algorithm"
   ]
  },
  {
   "cell_type": "code",
   "execution_count": null,
   "metadata": {
    "id": "SvrM9ewfPfA_"
   },
   "outputs": [],
   "source": [
    "import numpy as np"
   ]
  },
  {
   "cell_type": "code",
   "execution_count": null,
   "metadata": {
    "colab": {
     "base_uri": "https://localhost:8080/",
     "height": 71
    },
    "id": "7DSh_MM9JIm8",
    "outputId": "b4791171-b5e2-47cd-9cbe-25726f854e13"
   },
   "outputs": [
    {
     "data": {
      "text/plain": [
       "['FRO11987 ELE17451 ELE89019 SNA90258 GRO99222 ',\n",
       " 'GRO99222 GRO12298 FRO12685 ELE91550 SNA11465 ELE26917 ELE52966 FRO90334 SNA30755 ELE17451 FRO84225 SNA80192 ']"
      ]
     },
     "execution_count": 4,
     "metadata": {
      "tags": []
     },
     "output_type": "execute_result"
    }
   ],
   "source": [
    "browsing = sc.textFile(\"browsing.txt\")\n",
    "browsing.take(2)"
   ]
  },
  {
   "cell_type": "code",
   "execution_count": null,
   "metadata": {
    "colab": {
     "base_uri": "https://localhost:8080/",
     "height": 255
    },
    "id": "AWTAEHLwJIj7",
    "outputId": "dcb36a3d-24a6-47aa-dbdd-53f4e2627d8e"
   },
   "outputs": [
    {
     "data": {
      "text/plain": [
       "[['FRO11987', 'ELE17451', 'ELE89019', 'SNA90258', 'GRO99222', ''],\n",
       " ['GRO99222',\n",
       "  'GRO12298',\n",
       "  'FRO12685',\n",
       "  'ELE91550',\n",
       "  'SNA11465',\n",
       "  'ELE26917',\n",
       "  'ELE52966',\n",
       "  'FRO90334',\n",
       "  'SNA30755',\n",
       "  'ELE17451',\n",
       "  'FRO84225',\n",
       "  'SNA80192',\n",
       "  '']]"
      ]
     },
     "execution_count": 5,
     "metadata": {
      "tags": []
     },
     "output_type": "execute_result"
    }
   ],
   "source": [
    "# convert string into a list of items for each basket\n",
    "items = browsing.map(lambda x: x.split(\" \"))\n",
    "items.take(2)"
   ]
  },
  {
   "cell_type": "code",
   "execution_count": null,
   "metadata": {
    "colab": {
     "base_uri": "https://localhost:8080/",
     "height": 255
    },
    "id": "UhBrYrgjh0-B",
    "outputId": "b485daab-f57e-4e7f-e76d-6d79bbd54af0"
   },
   "outputs": [
    {
     "data": {
      "text/plain": [
       "[['ELE17451', '', 'FRO11987', 'SNA90258', 'ELE89019', 'GRO99222'],\n",
       " ['ELE17451',\n",
       "  'SNA11465',\n",
       "  '',\n",
       "  'FRO90334',\n",
       "  'SNA80192',\n",
       "  'SNA30755',\n",
       "  'FRO12685',\n",
       "  'GRO12298',\n",
       "  'ELE91550',\n",
       "  'FRO84225',\n",
       "  'ELE26917',\n",
       "  'ELE52966',\n",
       "  'GRO99222']]"
      ]
     },
     "execution_count": 6,
     "metadata": {
      "tags": []
     },
     "output_type": "execute_result"
    }
   ],
   "source": [
    "# remove duplicate items (if any) in each busket\n",
    "items_no_dupes = items.map(lambda x: list(set(x)))\n",
    "items_no_dupes.take(2)"
   ]
  },
  {
   "cell_type": "code",
   "execution_count": null,
   "metadata": {
    "colab": {
     "base_uri": "https://localhost:8080/",
     "height": 34
    },
    "id": "7rtoZWnsQgVB",
    "outputId": "611597ef-811d-4cbf-8d30-49b5413b44cd"
   },
   "outputs": [
    {
     "data": {
      "text/plain": [
       "['ELE17451', '', 'FRO11987', 'SNA90258', 'ELE89019']"
      ]
     },
     "execution_count": 7,
     "metadata": {
      "tags": []
     },
     "output_type": "execute_result"
    }
   ],
   "source": [
    "# consolidate all items in all busktets for first step of A-priori\n",
    "items_list = items_no_dupes.flatMap(lambda x:x)\n",
    "items_list.take(5)"
   ]
  },
  {
   "cell_type": "code",
   "execution_count": null,
   "metadata": {
    "colab": {
     "base_uri": "https://localhost:8080/",
     "height": 187
    },
    "id": "Gw1dYodZQusT",
    "outputId": "e0218aef-391d-45ed-a338-01cab9504d4a"
   },
   "outputs": [
    {
     "data": {
      "text/plain": [
       "['ELE17451',\n",
       " 'FRO11987',\n",
       " 'SNA90258',\n",
       " 'ELE89019',\n",
       " 'GRO99222',\n",
       " 'ELE17451',\n",
       " 'SNA11465',\n",
       " 'FRO90334',\n",
       " 'SNA80192',\n",
       " 'SNA30755']"
      ]
     },
     "execution_count": 8,
     "metadata": {
      "tags": []
     },
     "output_type": "execute_result"
    }
   ],
   "source": [
    "# remove empty entries in the list\n",
    "all_items = items_list.filter(lambda x: x!='')\n",
    "all_items.take(10)"
   ]
  },
  {
   "cell_type": "code",
   "execution_count": null,
   "metadata": {
    "colab": {
     "base_uri": "https://localhost:8080/",
     "height": 187
    },
    "id": "YcI0_y4sRLEn",
    "outputId": "0aca7d22-a8a8-4a35-bda2-e3ba60a448b0"
   },
   "outputs": [
    {
     "data": {
      "text/plain": [
       "[('ELE17451', 1),\n",
       " ('FRO11987', 1),\n",
       " ('SNA90258', 1),\n",
       " ('ELE89019', 1),\n",
       " ('GRO99222', 1),\n",
       " ('ELE17451', 1),\n",
       " ('SNA11465', 1),\n",
       " ('FRO90334', 1),\n",
       " ('SNA80192', 1),\n",
       " ('SNA30755', 1)]"
      ]
     },
     "execution_count": 9,
     "metadata": {
      "tags": []
     },
     "output_type": "execute_result"
    }
   ],
   "source": [
    "# construct key-value pair for each item in the list, with value=1\n",
    "item_pairs = all_items.map(lambda x: (x,1))\n",
    "item_pairs.take(10)"
   ]
  },
  {
   "cell_type": "code",
   "execution_count": null,
   "metadata": {
    "colab": {
     "base_uri": "https://localhost:8080/",
     "height": 187
    },
    "id": "UZ6-P4szRY71",
    "outputId": "1dc0f7c7-716e-47b0-a112-4b63cd6590a3"
   },
   "outputs": [
    {
     "data": {
      "text/plain": [
       "[('FRO11987', 104),\n",
       " ('SNA90258', 550),\n",
       " ('FRO90334', 63),\n",
       " ('SNA80192', 258),\n",
       " ('ELE91550', 23),\n",
       " ('FRO84225', 74),\n",
       " ('ELE52966', 380),\n",
       " ('GRO73461', 3602),\n",
       " ('DAI22896', 1219),\n",
       " ('FRO86643', 235)]"
      ]
     },
     "execution_count": 10,
     "metadata": {
      "tags": []
     },
     "output_type": "execute_result"
    }
   ],
   "source": [
    "# count occurance of each item in the list\n",
    "item_counts = item_pairs.reduceByKey(lambda a,b:a+b)\n",
    "item_counts.take(10)"
   ]
  },
  {
   "cell_type": "code",
   "execution_count": null,
   "metadata": {
    "colab": {
     "base_uri": "https://localhost:8080/",
     "height": 187
    },
    "id": "JffSbIzwRi12",
    "outputId": "71d7549b-063b-439f-92e2-6d335b3b0353"
   },
   "outputs": [
    {
     "data": {
      "text/plain": [
       "[('FRO11987', 104),\n",
       " ('SNA90258', 550),\n",
       " ('SNA80192', 258),\n",
       " ('ELE52966', 380),\n",
       " ('GRO73461', 3602),\n",
       " ('DAI22896', 1219),\n",
       " ('FRO86643', 235),\n",
       " ('SNA69641', 599),\n",
       " ('GRO39357', 296),\n",
       " ('ELE11375', 214)]"
      ]
     },
     "execution_count": 11,
     "metadata": {
      "tags": []
     },
     "output_type": "execute_result"
    }
   ],
   "source": [
    "# filter out items with support>=100\n",
    "frequent_items_counts = item_counts.filter(lambda x: x[1]>= 100)\n",
    "frequent_items_counts.take(10)"
   ]
  },
  {
   "cell_type": "code",
   "execution_count": null,
   "metadata": {
    "colab": {
     "base_uri": "https://localhost:8080/",
     "height": 34
    },
    "id": "fq3zMnInWfJb",
    "outputId": "5158566e-2c9c-45d4-f216-a74d9a9d56d2"
   },
   "outputs": [
    {
     "data": {
      "text/plain": [
       "True"
      ]
     },
     "execution_count": 12,
     "metadata": {
      "tags": []
     },
     "output_type": "execute_result"
    }
   ],
   "source": [
    "# sanity check: 647 frequent items\n",
    "frequent_items_counts.count() == 647"
   ]
  },
  {
   "cell_type": "code",
   "execution_count": null,
   "metadata": {
    "colab": {
     "base_uri": "https://localhost:8080/",
     "height": 34
    },
    "id": "3h9IClEXS_OD",
    "outputId": "5fd6db14-8910-4b9b-8a5b-766497e79796"
   },
   "outputs": [
    {
     "data": {
      "text/plain": [
       "['FRO11987', 'SNA90258', 'SNA80192', 'ELE52966', 'GRO73461']"
      ]
     },
     "execution_count": 13,
     "metadata": {
      "tags": []
     },
     "output_type": "execute_result"
    }
   ],
   "source": [
    "# get a list of frequent items\n",
    "frequent_item_list = frequent_items_counts.map(lambda x: x[0]).collect()\n",
    "frequent_item_list[:5]"
   ]
  },
  {
   "cell_type": "code",
   "execution_count": null,
   "metadata": {
    "colab": {
     "base_uri": "https://localhost:8080/",
     "height": 187
    },
    "id": "Gf-g9GgYW8Vj",
    "outputId": "6131cfda-5e5f-45f4-9fa6-3a24207da129"
   },
   "outputs": [
    {
     "data": {
      "text/plain": [
       "[['ELE17451', 'FRO11987', 'SNA90258', 'GRO99222'],\n",
       " ['ELE17451',\n",
       "  'SNA11465',\n",
       "  'SNA80192',\n",
       "  'SNA30755',\n",
       "  'GRO12298',\n",
       "  'ELE26917',\n",
       "  'ELE52966',\n",
       "  'GRO99222'],\n",
       " ['GRO73461', 'DAI22896', 'ELE17451', 'FRO86643', 'SNA99873']]"
      ]
     },
     "execution_count": 14,
     "metadata": {
      "tags": []
     },
     "output_type": "execute_result"
    }
   ],
   "source": [
    "# remove non-frequent items in each basket\n",
    "basket_of_frequent_items = items_no_dupes.map(lambda x: [i for i in x if i in frequent_item_list])\n",
    "basket_of_frequent_items.take(3)"
   ]
  },
  {
   "cell_type": "code",
   "execution_count": null,
   "metadata": {
    "colab": {
     "base_uri": "https://localhost:8080/",
     "height": 170
    },
    "id": "a4Oqqn6teTVU",
    "outputId": "307cd60b-69df-4d1d-a011-b17b2875718d"
   },
   "outputs": [
    {
     "data": {
      "text/plain": [
       "[['ELE17451', 'FRO11987', 'GRO99222', 'SNA90258'],\n",
       " ['ELE17451',\n",
       "  'ELE26917',\n",
       "  'ELE52966',\n",
       "  'GRO12298',\n",
       "  'GRO99222',\n",
       "  'SNA11465',\n",
       "  'SNA30755',\n",
       "  'SNA80192']]"
      ]
     },
     "execution_count": 15,
     "metadata": {
      "tags": []
     },
     "output_type": "execute_result"
    }
   ],
   "source": [
    "# sort frequent items in each basket \n",
    "# (ordered items will avoid duplicates in (X,Y) pairs)\n",
    "basket_of_frequent_items_sorted = basket_of_frequent_items.map(lambda x: sorted(x))\n",
    "basket_of_frequent_items_sorted.take(2)"
   ]
  },
  {
   "cell_type": "code",
   "execution_count": null,
   "metadata": {
    "colab": {
     "base_uri": "https://localhost:8080/",
     "height": 119
    },
    "id": "y3Hd79QmfGac",
    "outputId": "beb6c16b-ae8c-40cb-c8df-fd0ea226ae5f"
   },
   "outputs": [
    {
     "data": {
      "text/plain": [
       "[[('ELE17451', 'FRO11987'),\n",
       "  ('ELE17451', 'GRO99222'),\n",
       "  ('ELE17451', 'SNA90258'),\n",
       "  ('FRO11987', 'GRO99222'),\n",
       "  ('FRO11987', 'SNA90258'),\n",
       "  ('GRO99222', 'SNA90258')]]"
      ]
     },
     "execution_count": 16,
     "metadata": {
      "tags": []
     },
     "output_type": "execute_result"
    }
   ],
   "source": [
    "# create pairs of frequent items in each basket\n",
    "# note that each basket is ordered\n",
    "pair_freq_items_each_basket = basket_of_frequent_items_sorted.map(lambda x: [(i,j) for i in x for j in x if i<j])\n",
    "pair_freq_items_each_basket.take(1)"
   ]
  },
  {
   "cell_type": "code",
   "execution_count": null,
   "metadata": {
    "colab": {
     "base_uri": "https://localhost:8080/",
     "height": 34
    },
    "id": "hMvhKVpJfPp6",
    "outputId": "fcfc1e59-fc69-45ce-988d-6d05a350e3ff"
   },
   "outputs": [
    {
     "data": {
      "text/plain": [
       "0"
      ]
     },
     "execution_count": 17,
     "metadata": {
      "tags": []
     },
     "output_type": "execute_result"
    }
   ],
   "source": [
    "# sanity check:\n",
    "# the number of pairs of frequent items in each basket = n (basket size) choose 2\n",
    "num_pairs_freq_items_per_basket = pair_freq_items_each_basket.map(lambda x: len(x)).collect()\n",
    "basket_size_choose_2 = basket_of_frequent_items_sorted.map(lambda x: int(len(x)*(len(x)-1)/2)).collect()\n",
    "# number of descripancies (want 0)\n",
    "np.sum([basket_size_choose_2[i]!=num_pairs_freq_items_per_basket[i] for i in range(len(basket_size_choose_2))])"
   ]
  },
  {
   "cell_type": "code",
   "execution_count": null,
   "metadata": {
    "colab": {
     "base_uri": "https://localhost:8080/",
     "height": 102
    },
    "id": "eThbzkLLi-rw",
    "outputId": "5e5fcfb5-44ed-4d64-8b5c-9d080cf58ffe"
   },
   "outputs": [
    {
     "data": {
      "text/plain": [
       "[('ELE17451', 'FRO11987'),\n",
       " ('ELE17451', 'GRO99222'),\n",
       " ('ELE17451', 'SNA90258'),\n",
       " ('FRO11987', 'GRO99222'),\n",
       " ('FRO11987', 'SNA90258')]"
      ]
     },
     "execution_count": 18,
     "metadata": {
      "tags": []
     },
     "output_type": "execute_result"
    }
   ],
   "source": [
    "# get a list of all pairs of frequent items \n",
    "list_pairs_freq_items = pair_freq_items_each_basket.flatMap(lambda x:x).collect()\n",
    "list_pairs_freq_items[:5]"
   ]
  },
  {
   "cell_type": "code",
   "execution_count": null,
   "metadata": {
    "id": "iF6ZLJHdjhBn"
   },
   "outputs": [],
   "source": [
    "# count pairs in the list\n",
    "from collections import Counter\n",
    "pair_of_frequent_items_count = dict(Counter(list_pairs_freq_items))\n",
    "pair_of_frequent_items_count"
   ]
  },
  {
   "cell_type": "code",
   "execution_count": null,
   "metadata": {
    "colab": {
     "base_uri": "https://localhost:8080/",
     "height": 102
    },
    "id": "TzhDPGbxlFFa",
    "outputId": "89fc301e-c0d2-4e8f-a769-69deacca75cb"
   },
   "outputs": [
    {
     "data": {
      "text/plain": [
       "[[('ELE17451', 'GRO99222'), 148],\n",
       " [('ELE17451', 'SNA90258'), 113],\n",
       " [('GRO99222', 'SNA90258'), 156],\n",
       " [('ELE17451', 'ELE26917'), 314],\n",
       " [('ELE17451', 'SNA30755'), 111]]"
      ]
     },
     "execution_count": 20,
     "metadata": {
      "tags": []
     },
     "output_type": "execute_result"
    }
   ],
   "source": [
    "# extract pairs that have support >= 100\n",
    "frequent_pairs = [[key, val] for key, val in pair_of_frequent_items_count.items() if val >= 100]\n",
    "frequent_pairs[:5]"
   ]
  },
  {
   "cell_type": "code",
   "execution_count": null,
   "metadata": {
    "colab": {
     "base_uri": "https://localhost:8080/",
     "height": 142
    },
    "id": "LYBL8Yeumbkm",
    "outputId": "abd13551-4155-4126-c27a-f152287b30cb"
   },
   "outputs": [
    {
     "data": {
      "text/html": [
       "<div>\n",
       "<style scoped>\n",
       "    .dataframe tbody tr th:only-of-type {\n",
       "        vertical-align: middle;\n",
       "    }\n",
       "\n",
       "    .dataframe tbody tr th {\n",
       "        vertical-align: top;\n",
       "    }\n",
       "\n",
       "    .dataframe thead th {\n",
       "        text-align: right;\n",
       "    }\n",
       "</style>\n",
       "<table border=\"1\" class=\"dataframe\">\n",
       "  <thead>\n",
       "    <tr style=\"text-align: right;\">\n",
       "      <th></th>\n",
       "      <th>freq_pairs</th>\n",
       "      <th>pair_count</th>\n",
       "      <th>freq_item_A</th>\n",
       "      <th>freq_item_B</th>\n",
       "    </tr>\n",
       "  </thead>\n",
       "  <tbody>\n",
       "    <tr>\n",
       "      <th>0</th>\n",
       "      <td>(ELE17451, GRO99222)</td>\n",
       "      <td>148</td>\n",
       "      <td>ELE17451</td>\n",
       "      <td>GRO99222</td>\n",
       "    </tr>\n",
       "    <tr>\n",
       "      <th>1</th>\n",
       "      <td>(ELE17451, SNA90258)</td>\n",
       "      <td>113</td>\n",
       "      <td>ELE17451</td>\n",
       "      <td>SNA90258</td>\n",
       "    </tr>\n",
       "    <tr>\n",
       "      <th>2</th>\n",
       "      <td>(GRO99222, SNA90258)</td>\n",
       "      <td>156</td>\n",
       "      <td>GRO99222</td>\n",
       "      <td>SNA90258</td>\n",
       "    </tr>\n",
       "  </tbody>\n",
       "</table>\n",
       "</div>"
      ],
      "text/plain": [
       "             freq_pairs  pair_count freq_item_A freq_item_B\n",
       "0  (ELE17451, GRO99222)         148    ELE17451    GRO99222\n",
       "1  (ELE17451, SNA90258)         113    ELE17451    SNA90258\n",
       "2  (GRO99222, SNA90258)         156    GRO99222    SNA90258"
      ]
     },
     "execution_count": 21,
     "metadata": {
      "tags": []
     },
     "output_type": "execute_result"
    }
   ],
   "source": [
    "# construct pd dataframe [table1] of frequent pairs and counts\n",
    "frequent_pairs_pd = pd.DataFrame(frequent_pairs).rename(columns={0:\"freq_pairs\", 1:\"pair_count\"})\n",
    "nrow = frequent_pairs_pd.shape[0]\n",
    "frequent_pairs_pd[\"freq_item_A\"] = [frequent_pairs_pd.freq_pairs[i][0] for i in range(nrow)]\n",
    "frequent_pairs_pd[\"freq_item_B\"] = [frequent_pairs_pd.freq_pairs[i][1] for i in range(nrow)]\n",
    "frequent_pairs_pd.head(3)"
   ]
  },
  {
   "cell_type": "code",
   "execution_count": null,
   "metadata": {
    "colab": {
     "base_uri": "https://localhost:8080/",
     "height": 142
    },
    "id": "_Ed7Q1ZroWUP",
    "outputId": "2d42c367-8ff9-4647-bac2-65a87d8aba48"
   },
   "outputs": [
    {
     "data": {
      "text/html": [
       "<div>\n",
       "<style scoped>\n",
       "    .dataframe tbody tr th:only-of-type {\n",
       "        vertical-align: middle;\n",
       "    }\n",
       "\n",
       "    .dataframe tbody tr th {\n",
       "        vertical-align: top;\n",
       "    }\n",
       "\n",
       "    .dataframe thead th {\n",
       "        text-align: right;\n",
       "    }\n",
       "</style>\n",
       "<table border=\"1\" class=\"dataframe\">\n",
       "  <thead>\n",
       "    <tr style=\"text-align: right;\">\n",
       "      <th></th>\n",
       "      <th>item</th>\n",
       "      <th>item_count</th>\n",
       "    </tr>\n",
       "  </thead>\n",
       "  <tbody>\n",
       "    <tr>\n",
       "      <th>0</th>\n",
       "      <td>FRO11987</td>\n",
       "      <td>104</td>\n",
       "    </tr>\n",
       "    <tr>\n",
       "      <th>1</th>\n",
       "      <td>SNA90258</td>\n",
       "      <td>550</td>\n",
       "    </tr>\n",
       "    <tr>\n",
       "      <th>2</th>\n",
       "      <td>SNA80192</td>\n",
       "      <td>258</td>\n",
       "    </tr>\n",
       "  </tbody>\n",
       "</table>\n",
       "</div>"
      ],
      "text/plain": [
       "       item  item_count\n",
       "0  FRO11987         104\n",
       "1  SNA90258         550\n",
       "2  SNA80192         258"
      ]
     },
     "execution_count": 22,
     "metadata": {
      "tags": []
     },
     "output_type": "execute_result"
    }
   ],
   "source": [
    "# construct pd dataframe [table2] of frequent items and counts\n",
    "frequent_item_pd = frequent_items_counts.toDF((\"item\",\"item_count\")).toPandas()\n",
    "frequent_item_pd.head(3)"
   ]
  },
  {
   "cell_type": "code",
   "execution_count": null,
   "metadata": {
    "colab": {
     "base_uri": "https://localhost:8080/",
     "height": 142
    },
    "id": "_udP73GXpmOT",
    "outputId": "59fd4ff4-3a80-4379-f320-23d9254548f3"
   },
   "outputs": [
    {
     "data": {
      "text/html": [
       "<div>\n",
       "<style scoped>\n",
       "    .dataframe tbody tr th:only-of-type {\n",
       "        vertical-align: middle;\n",
       "    }\n",
       "\n",
       "    .dataframe tbody tr th {\n",
       "        vertical-align: top;\n",
       "    }\n",
       "\n",
       "    .dataframe thead th {\n",
       "        text-align: right;\n",
       "    }\n",
       "</style>\n",
       "<table border=\"1\" class=\"dataframe\">\n",
       "  <thead>\n",
       "    <tr style=\"text-align: right;\">\n",
       "      <th></th>\n",
       "      <th>pair_count</th>\n",
       "      <th>freq_item_A</th>\n",
       "      <th>freq_item_B</th>\n",
       "      <th>item_count_A</th>\n",
       "      <th>item_count_B</th>\n",
       "    </tr>\n",
       "  </thead>\n",
       "  <tbody>\n",
       "    <tr>\n",
       "      <th>0</th>\n",
       "      <td>148</td>\n",
       "      <td>ELE17451</td>\n",
       "      <td>GRO99222</td>\n",
       "      <td>3875</td>\n",
       "      <td>906</td>\n",
       "    </tr>\n",
       "    <tr>\n",
       "      <th>1</th>\n",
       "      <td>113</td>\n",
       "      <td>ELE17451</td>\n",
       "      <td>SNA90258</td>\n",
       "      <td>3875</td>\n",
       "      <td>550</td>\n",
       "    </tr>\n",
       "    <tr>\n",
       "      <th>2</th>\n",
       "      <td>156</td>\n",
       "      <td>GRO99222</td>\n",
       "      <td>SNA90258</td>\n",
       "      <td>906</td>\n",
       "      <td>550</td>\n",
       "    </tr>\n",
       "  </tbody>\n",
       "</table>\n",
       "</div>"
      ],
      "text/plain": [
       "   pair_count freq_item_A freq_item_B  item_count_A  item_count_B\n",
       "0         148    ELE17451    GRO99222          3875           906\n",
       "1         113    ELE17451    SNA90258          3875           550\n",
       "2         156    GRO99222    SNA90258           906           550"
      ]
     },
     "execution_count": 23,
     "metadata": {
      "tags": []
     },
     "output_type": "execute_result"
    }
   ],
   "source": [
    "# join [table1] and [table2] to calculate conf(A \\rightarrow B)\n",
    "confidence_df = pd.merge(frequent_pairs_pd, frequent_item_pd, \n",
    "                        how=\"left\", left_on=\"freq_item_A\", right_on = \"item\") \\\n",
    "                  .drop(columns=['item']) \\\n",
    "                  .rename(columns={\"item_count\":\"item_count_A\"}) \\\n",
    "                  .merge(frequent_item_pd, how=\"left\", left_on=\"freq_item_B\", right_on = \"item\") \\\n",
    "                  .drop(columns=['item', 'freq_pairs'])\\\n",
    "                  .rename(columns={\"item_count\":\"item_count_B\"}) \n",
    "confidence_df.head(3)"
   ]
  },
  {
   "cell_type": "code",
   "execution_count": null,
   "metadata": {
    "colab": {
     "base_uri": "https://localhost:8080/",
     "height": 142
    },
    "id": "gpugersEuTW7",
    "outputId": "a17e892d-cd4b-4d9d-c793-7b622ffd379a"
   },
   "outputs": [
    {
     "data": {
      "text/html": [
       "<div>\n",
       "<style scoped>\n",
       "    .dataframe tbody tr th:only-of-type {\n",
       "        vertical-align: middle;\n",
       "    }\n",
       "\n",
       "    .dataframe tbody tr th {\n",
       "        vertical-align: top;\n",
       "    }\n",
       "\n",
       "    .dataframe thead th {\n",
       "        text-align: right;\n",
       "    }\n",
       "</style>\n",
       "<table border=\"1\" class=\"dataframe\">\n",
       "  <thead>\n",
       "    <tr style=\"text-align: right;\">\n",
       "      <th></th>\n",
       "      <th>pair_count</th>\n",
       "      <th>freq_item_A</th>\n",
       "      <th>freq_item_B</th>\n",
       "      <th>item_count_A</th>\n",
       "      <th>item_count_B</th>\n",
       "    </tr>\n",
       "  </thead>\n",
       "  <tbody>\n",
       "    <tr>\n",
       "      <th>0</th>\n",
       "      <td>148</td>\n",
       "      <td>GRO99222</td>\n",
       "      <td>ELE17451</td>\n",
       "      <td>906</td>\n",
       "      <td>3875</td>\n",
       "    </tr>\n",
       "    <tr>\n",
       "      <th>1</th>\n",
       "      <td>113</td>\n",
       "      <td>SNA90258</td>\n",
       "      <td>ELE17451</td>\n",
       "      <td>550</td>\n",
       "      <td>3875</td>\n",
       "    </tr>\n",
       "    <tr>\n",
       "      <th>2</th>\n",
       "      <td>156</td>\n",
       "      <td>SNA90258</td>\n",
       "      <td>GRO99222</td>\n",
       "      <td>550</td>\n",
       "      <td>906</td>\n",
       "    </tr>\n",
       "  </tbody>\n",
       "</table>\n",
       "</div>"
      ],
      "text/plain": [
       "   pair_count freq_item_A freq_item_B  item_count_A  item_count_B\n",
       "0         148    GRO99222    ELE17451           906          3875\n",
       "1         113    SNA90258    ELE17451           550          3875\n",
       "2         156    SNA90258    GRO99222           550           906"
      ]
     },
     "execution_count": 24,
     "metadata": {
      "tags": []
     },
     "output_type": "execute_result"
    }
   ],
   "source": [
    "confidence_reverse_df = confidence_df.iloc[:, [0,2,1,4,3]] \\\n",
    "                                     .rename(columns={\"freq_item_A\":\"freq_item_B\",\n",
    "                                                      \"freq_item_B\":\"freq_item_A\",\n",
    "                                                      \"item_count_B\":\"item_count_A\",\n",
    "                                                      \"item_count_A\":\"item_count_B\"})\n",
    "confidence_reverse_df.head(3)                                "
   ]
  },
  {
   "cell_type": "code",
   "execution_count": null,
   "metadata": {
    "id": "qz4dHsF6uM-h"
   },
   "outputs": [],
   "source": [
    "confidence_df = confidence_df.append(confidence_reverse_df)"
   ]
  },
  {
   "cell_type": "code",
   "execution_count": null,
   "metadata": {
    "id": "qqQEJXFduta1"
   },
   "outputs": [],
   "source": [
    "confidence_df[\"confidence\"]=confidence_df.pair_count/confidence_df.item_count_A"
   ]
  },
  {
   "cell_type": "code",
   "execution_count": null,
   "metadata": {
    "colab": {
     "base_uri": "https://localhost:8080/",
     "height": 136
    },
    "id": "Ft9FFrkGxA3Q",
    "outputId": "9e0f3bed-a590-4be3-fb6b-277ed9ace8e9"
   },
   "outputs": [
    {
     "name": "stdout",
     "output_type": "stream",
     "text": [
      "The top 5 rules for X --> Y are:\n",
      "    freq_item_A freq_item_B  confidence\n",
      "624    DAI93865    FRO40251    1.000000\n",
      "134    GRO85051    FRO40251    0.999176\n",
      "130    GRO38636    FRO40251    0.990654\n",
      "591    ELE12951    FRO40251    0.990566\n",
      "208    DAI88079    FRO40251    0.986726\n"
     ]
    }
   ],
   "source": [
    "# sort table by confidence score (desc) and item A (asc)\n",
    "confidence_df.sort_values([\"confidence\", \"freq_item_A\"], ascending = (False, True), inplace=True)\n",
    "\n",
    "# 2d) outputs\n",
    "print(\"The top 5 rules for X --> Y are:\")\n",
    "print(confidence_df[[\"freq_item_A\", \"freq_item_B\", \"confidence\"]].head(5))"
   ]
  },
  {
   "cell_type": "code",
   "execution_count": null,
   "metadata": {
    "id": "MAdaaKvSyQwc"
   },
   "outputs": [],
   "source": [
    "# select a list of candidates for frequent pairs (X,Y,Z) from frequent pairs (X,Y)\n",
    "candidate_list = set(confidence_df.freq_item_A)"
   ]
  },
  {
   "cell_type": "code",
   "execution_count": null,
   "metadata": {
    "colab": {
     "base_uri": "https://localhost:8080/",
     "height": 68
    },
    "id": "2kjqIKtMwvVR",
    "outputId": "5eb82cd6-1a86-4ee9-a87c-6599651aa4d2"
   },
   "outputs": [
    {
     "data": {
      "text/plain": [
       "[['ELE17451', 'SNA90258', 'GRO99222'],\n",
       " ['ELE17451', 'SNA30755', 'ELE26917', 'GRO99222'],\n",
       " ['GRO73461', 'DAI22896', 'ELE17451', 'SNA99873']]"
      ]
     },
     "execution_count": 29,
     "metadata": {
      "tags": []
     },
     "output_type": "execute_result"
    }
   ],
   "source": [
    "# remove non-candidate items in each basket\n",
    "basket_of_frequent_items_3 = items_no_dupes.map(lambda x: [i for i in x if i in candidate_list])\n",
    "basket_of_frequent_items_3.take(3)"
   ]
  },
  {
   "cell_type": "code",
   "execution_count": null,
   "metadata": {
    "colab": {
     "base_uri": "https://localhost:8080/",
     "height": 68
    },
    "id": "y8lNsezBx_5W",
    "outputId": "124ab895-1f45-40b0-9de2-e6d193ef9344"
   },
   "outputs": [
    {
     "data": {
      "text/plain": [
       "[['ELE17451', 'GRO99222', 'SNA90258'],\n",
       " ['ELE17451', 'ELE26917', 'GRO99222', 'SNA30755'],\n",
       " ['DAI22896', 'ELE17451', 'GRO73461', 'SNA99873']]"
      ]
     },
     "execution_count": 30,
     "metadata": {
      "tags": []
     },
     "output_type": "execute_result"
    }
   ],
   "source": [
    "# sort frequent items in each basket \n",
    "# (ordered items will avoid duplicates in (X,Y, Z) pairs)\n",
    "basket_of_frequent_items_sorted_3 = basket_of_frequent_items_3.map(lambda x: sorted(x))\n",
    "basket_of_frequent_items_sorted_3.take(3)"
   ]
  },
  {
   "cell_type": "code",
   "execution_count": null,
   "metadata": {
    "colab": {
     "base_uri": "https://localhost:8080/",
     "height": 170
    },
    "id": "K5G0EGYiyIA8",
    "outputId": "9de9713c-9bbe-40a3-80d0-00b3e1b6a0f7"
   },
   "outputs": [
    {
     "data": {
      "text/plain": [
       "[[('ELE17451', 'GRO99222', 'SNA90258')],\n",
       " [('ELE17451', 'ELE26917', 'GRO99222'),\n",
       "  ('ELE17451', 'ELE26917', 'SNA30755'),\n",
       "  ('ELE17451', 'GRO99222', 'SNA30755'),\n",
       "  ('ELE26917', 'GRO99222', 'SNA30755')],\n",
       " [('DAI22896', 'ELE17451', 'GRO73461'),\n",
       "  ('DAI22896', 'ELE17451', 'SNA99873'),\n",
       "  ('DAI22896', 'GRO73461', 'SNA99873'),\n",
       "  ('ELE17451', 'GRO73461', 'SNA99873')]]"
      ]
     },
     "execution_count": 31,
     "metadata": {
      "tags": []
     },
     "output_type": "execute_result"
    }
   ],
   "source": [
    "# create pairs of frequent items (X,Y,Z) in each basket\n",
    "# note that each basket is ordered\n",
    "pair_freq_items_each_basket_3 = basket_of_frequent_items_sorted_3.map(lambda x: [(i,j, k) for i in x for j in x for k in x if i<j and j<k])\n",
    "pair_freq_items_each_basket_3.take(3)"
   ]
  },
  {
   "cell_type": "code",
   "execution_count": null,
   "metadata": {
    "colab": {
     "base_uri": "https://localhost:8080/",
     "height": 102
    },
    "id": "qNIC-TeUybIz",
    "outputId": "24ce3ee1-0099-48f8-c51e-9aa494e8c3c9"
   },
   "outputs": [
    {
     "data": {
      "text/plain": [
       "[('ELE17451', 'GRO99222', 'SNA90258'),\n",
       " ('ELE17451', 'ELE26917', 'GRO99222'),\n",
       " ('ELE17451', 'ELE26917', 'SNA30755'),\n",
       " ('ELE17451', 'GRO99222', 'SNA30755'),\n",
       " ('ELE26917', 'GRO99222', 'SNA30755')]"
      ]
     },
     "execution_count": 32,
     "metadata": {
      "tags": []
     },
     "output_type": "execute_result"
    }
   ],
   "source": [
    "# get a list of all pairs of frequent items (X,Y,Z)\n",
    "list_pairs_freq_items_3 = pair_freq_items_each_basket_3.flatMap(lambda x:x).collect()\n",
    "list_pairs_freq_items_3[:5]"
   ]
  },
  {
   "cell_type": "code",
   "execution_count": null,
   "metadata": {
    "id": "AMBWPLT8ylaO"
   },
   "outputs": [],
   "source": [
    "# count each (X,Y,Z) pair in the list\n",
    "from collections import Counter\n",
    "pair_of_frequent_items_count_3 = dict(Counter(list_pairs_freq_items_3))\n",
    "pair_of_frequent_items_count_3"
   ]
  },
  {
   "cell_type": "code",
   "execution_count": null,
   "metadata": {
    "colab": {
     "base_uri": "https://localhost:8080/",
     "height": 102
    },
    "id": "oACJuztHy04N",
    "outputId": "c5bfc248-5edb-4463-9bb4-a9886c2f3740"
   },
   "outputs": [
    {
     "data": {
      "text/plain": [
       "[[('ELE17451', 'GRO30386', 'GRO73461'), 103],\n",
       " [('ELE17451', 'SNA59903', 'SNA72163'), 127],\n",
       " [('DAI62779', 'ELE17451', 'FRO78087'), 121],\n",
       " [('DAI62779', 'ELE17451', 'ELE26917'), 160],\n",
       " [('DAI62779', 'ELE17451', 'FRO31317'), 106]]"
      ]
     },
     "execution_count": 34,
     "metadata": {
      "tags": []
     },
     "output_type": "execute_result"
    }
   ],
   "source": [
    "# extract (X,Y,Z) pairs that have support >= 100\n",
    "frequent_pairs_3 = [[key, val] for key, val in pair_of_frequent_items_count_3.items() if val >= 100]\n",
    "frequent_pairs_3[:5]"
   ]
  },
  {
   "cell_type": "code",
   "execution_count": null,
   "metadata": {
    "colab": {
     "base_uri": "https://localhost:8080/",
     "height": 142
    },
    "id": "RO4qiE_dy-c2",
    "outputId": "d56542f8-0b25-42dc-a537-a31f2c9d2177"
   },
   "outputs": [
    {
     "data": {
      "text/html": [
       "<div>\n",
       "<style scoped>\n",
       "    .dataframe tbody tr th:only-of-type {\n",
       "        vertical-align: middle;\n",
       "    }\n",
       "\n",
       "    .dataframe tbody tr th {\n",
       "        vertical-align: top;\n",
       "    }\n",
       "\n",
       "    .dataframe thead th {\n",
       "        text-align: right;\n",
       "    }\n",
       "</style>\n",
       "<table border=\"1\" class=\"dataframe\">\n",
       "  <thead>\n",
       "    <tr style=\"text-align: right;\">\n",
       "      <th></th>\n",
       "      <th>freq_pairs_XYZ</th>\n",
       "      <th>pair_count</th>\n",
       "    </tr>\n",
       "  </thead>\n",
       "  <tbody>\n",
       "    <tr>\n",
       "      <th>0</th>\n",
       "      <td>(ELE17451, GRO30386, GRO73461)</td>\n",
       "      <td>103</td>\n",
       "    </tr>\n",
       "    <tr>\n",
       "      <th>1</th>\n",
       "      <td>(ELE17451, SNA59903, SNA72163)</td>\n",
       "      <td>127</td>\n",
       "    </tr>\n",
       "    <tr>\n",
       "      <th>2</th>\n",
       "      <td>(DAI62779, ELE17451, FRO78087)</td>\n",
       "      <td>121</td>\n",
       "    </tr>\n",
       "  </tbody>\n",
       "</table>\n",
       "</div>"
      ],
      "text/plain": [
       "                   freq_pairs_XYZ  pair_count\n",
       "0  (ELE17451, GRO30386, GRO73461)         103\n",
       "1  (ELE17451, SNA59903, SNA72163)         127\n",
       "2  (DAI62779, ELE17451, FRO78087)         121"
      ]
     },
     "execution_count": 35,
     "metadata": {
      "tags": []
     },
     "output_type": "execute_result"
    }
   ],
   "source": [
    "# construct pd dataframe [table1] of frequent pairs (X,Y,Z) and counts\n",
    "frequent_pairs_pd_3 = pd.DataFrame(frequent_pairs_3).rename(columns={0:\"freq_pairs_XYZ\", 1:\"pair_count\"})\n",
    "nrow = frequent_pairs_pd_3.shape[0]\n",
    "frequent_pairs_pd_3.head(3)"
   ]
  },
  {
   "cell_type": "code",
   "execution_count": null,
   "metadata": {
    "colab": {
     "base_uri": "https://localhost:8080/",
     "height": 176
    },
    "id": "KgK-70QWz_xh",
    "outputId": "eb2282cc-28df-4205-e0c7-3f006b2e538d"
   },
   "outputs": [
    {
     "data": {
      "text/html": [
       "<div>\n",
       "<style scoped>\n",
       "    .dataframe tbody tr th:only-of-type {\n",
       "        vertical-align: middle;\n",
       "    }\n",
       "\n",
       "    .dataframe tbody tr th {\n",
       "        vertical-align: top;\n",
       "    }\n",
       "\n",
       "    .dataframe thead th {\n",
       "        text-align: right;\n",
       "    }\n",
       "</style>\n",
       "<table border=\"1\" class=\"dataframe\">\n",
       "  <thead>\n",
       "    <tr style=\"text-align: right;\">\n",
       "      <th></th>\n",
       "      <th>freq_pairs_XYZ</th>\n",
       "      <th>pair_count</th>\n",
       "      <th>freq_pairs_XY</th>\n",
       "      <th>freq_pairs_XZ</th>\n",
       "      <th>freq_pairs_YZ</th>\n",
       "    </tr>\n",
       "  </thead>\n",
       "  <tbody>\n",
       "    <tr>\n",
       "      <th>0</th>\n",
       "      <td>(ELE17451, GRO30386, GRO73461)</td>\n",
       "      <td>103</td>\n",
       "      <td>(ELE17451, GRO30386)</td>\n",
       "      <td>(ELE17451, GRO73461)</td>\n",
       "      <td>(GRO30386, GRO73461)</td>\n",
       "    </tr>\n",
       "    <tr>\n",
       "      <th>1</th>\n",
       "      <td>(ELE17451, SNA59903, SNA72163)</td>\n",
       "      <td>127</td>\n",
       "      <td>(ELE17451, SNA59903)</td>\n",
       "      <td>(ELE17451, SNA72163)</td>\n",
       "      <td>(SNA59903, SNA72163)</td>\n",
       "    </tr>\n",
       "    <tr>\n",
       "      <th>2</th>\n",
       "      <td>(DAI62779, ELE17451, FRO78087)</td>\n",
       "      <td>121</td>\n",
       "      <td>(DAI62779, ELE17451)</td>\n",
       "      <td>(DAI62779, FRO78087)</td>\n",
       "      <td>(ELE17451, FRO78087)</td>\n",
       "    </tr>\n",
       "  </tbody>\n",
       "</table>\n",
       "</div>"
      ],
      "text/plain": [
       "                   freq_pairs_XYZ  ...         freq_pairs_YZ\n",
       "0  (ELE17451, GRO30386, GRO73461)  ...  (GRO30386, GRO73461)\n",
       "1  (ELE17451, SNA59903, SNA72163)  ...  (SNA59903, SNA72163)\n",
       "2  (DAI62779, ELE17451, FRO78087)  ...  (ELE17451, FRO78087)\n",
       "\n",
       "[3 rows x 5 columns]"
      ]
     },
     "execution_count": 36,
     "metadata": {
      "tags": []
     },
     "output_type": "execute_result"
    }
   ],
   "source": [
    "frequent_pairs_pd_3[\"freq_pairs_XY\"] = [(frequent_pairs_pd_3.freq_pairs_XYZ[i][0], frequent_pairs_pd_3.freq_pairs_XYZ[i][1]) for i in range(nrow)]\n",
    "frequent_pairs_pd_3[\"freq_pairs_XZ\"] = [(frequent_pairs_pd_3.freq_pairs_XYZ[i][0], frequent_pairs_pd_3.freq_pairs_XYZ[i][2]) for i in range(nrow)]\n",
    "frequent_pairs_pd_3[\"freq_pairs_YZ\"] = [(frequent_pairs_pd_3.freq_pairs_XYZ[i][1], frequent_pairs_pd_3.freq_pairs_XYZ[i][2]) for i in range(nrow)]\n",
    "frequent_pairs_pd_3.head(3)"
   ]
  },
  {
   "cell_type": "code",
   "execution_count": null,
   "metadata": {
    "colab": {
     "base_uri": "https://localhost:8080/",
     "height": 142
    },
    "id": "gFjt2fOzzak5",
    "outputId": "5ba5cfdb-fda1-4fef-aafa-9a94ee66b907"
   },
   "outputs": [
    {
     "data": {
      "text/html": [
       "<div>\n",
       "<style scoped>\n",
       "    .dataframe tbody tr th:only-of-type {\n",
       "        vertical-align: middle;\n",
       "    }\n",
       "\n",
       "    .dataframe tbody tr th {\n",
       "        vertical-align: top;\n",
       "    }\n",
       "\n",
       "    .dataframe thead th {\n",
       "        text-align: right;\n",
       "    }\n",
       "</style>\n",
       "<table border=\"1\" class=\"dataframe\">\n",
       "  <thead>\n",
       "    <tr style=\"text-align: right;\">\n",
       "      <th></th>\n",
       "      <th>pair_of_two</th>\n",
       "      <th>count</th>\n",
       "    </tr>\n",
       "  </thead>\n",
       "  <tbody>\n",
       "    <tr>\n",
       "      <th>0</th>\n",
       "      <td>(ELE17451, GRO99222)</td>\n",
       "      <td>148</td>\n",
       "    </tr>\n",
       "    <tr>\n",
       "      <th>1</th>\n",
       "      <td>(ELE17451, SNA90258)</td>\n",
       "      <td>113</td>\n",
       "    </tr>\n",
       "    <tr>\n",
       "      <th>2</th>\n",
       "      <td>(GRO99222, SNA90258)</td>\n",
       "      <td>156</td>\n",
       "    </tr>\n",
       "  </tbody>\n",
       "</table>\n",
       "</div>"
      ],
      "text/plain": [
       "            pair_of_two  count\n",
       "0  (ELE17451, GRO99222)    148\n",
       "1  (ELE17451, SNA90258)    113\n",
       "2  (GRO99222, SNA90258)    156"
      ]
     },
     "execution_count": 37,
     "metadata": {
      "tags": []
     },
     "output_type": "execute_result"
    }
   ],
   "source": [
    "# construct pd dataframe [table1] of frequent pairs (X,Y) and counts\n",
    "frequent_pairs_pd = pd.DataFrame(frequent_pairs) \\\n",
    "                      .rename(columns={0:\"pair_of_two\", 1:\"count\"})\n",
    "frequent_pairs_pd.head(3)"
   ]
  },
  {
   "cell_type": "code",
   "execution_count": null,
   "metadata": {
    "id": "R_NKvnsV7tFo"
   },
   "outputs": [],
   "source": [
    "# join [table1] and [table2] to calculate conf(XY \\rightarrow Z)\n",
    "confidence_XYZ_df1 = pd.merge(frequent_pairs_pd_3, frequent_pairs_pd,\n",
    "                              how=\"left\", left_on=\"freq_pairs_XY\", right_on=\"pair_of_two\") \\\n",
    "                       .drop(columns=[\"freq_pairs_XY\",\"freq_pairs_XZ\", \"freq_pairs_YZ\"]) \\\n",
    "                       .rename(columns={\"count\":\"count_XY\",\n",
    "                                        \"pair_of_two\":\"freq_pairs_XY\"})\n",
    "confidence_XYZ_df1.head(3)\n",
    "\n",
    "confidence_XYZ_df2 = pd.merge(frequent_pairs_pd_3, frequent_pairs_pd,\n",
    "                              how=\"left\", left_on=\"freq_pairs_XZ\", right_on=\"pair_of_two\") \\\n",
    "                       .drop(columns=[\"freq_pairs_XY\",\"freq_pairs_XZ\", \"freq_pairs_YZ\"]) \\\n",
    "                       .rename(columns={\"count\":\"count_XY\",\n",
    "                                        \"pair_of_two\":\"freq_pairs_XY\"})\n",
    "confidence_XYZ_df2.head(3) \n",
    "\n",
    "confidence_XYZ_df3 = pd.merge(frequent_pairs_pd_3, frequent_pairs_pd,\n",
    "                              how=\"left\", left_on=\"freq_pairs_YZ\", right_on=\"pair_of_two\") \\\n",
    "                       .drop(columns=[\"freq_pairs_XY\",\"freq_pairs_XZ\", \"freq_pairs_YZ\"]) \\\n",
    "                       .rename(columns={\"count\":\"count_XY\",\n",
    "                                        \"pair_of_two\":\"freq_pairs_XY\"})\n",
    "confidence_XYZ_df3.head(3) \n",
    "\n",
    "confidence_XYZ_df = confidence_XYZ_df1.append(confidence_XYZ_df2).append(confidence_XYZ_df3)"
   ]
  },
  {
   "cell_type": "code",
   "execution_count": null,
   "metadata": {
    "colab": {
     "base_uri": "https://localhost:8080/",
     "height": 34
    },
    "id": "DF6ncnJI7tOj",
    "outputId": "a311a271-4a2e-4330-b355-c7c277317207"
   },
   "outputs": [
    {
     "data": {
      "text/plain": [
       "True"
      ]
     },
     "execution_count": 39,
     "metadata": {
      "tags": []
     },
     "output_type": "execute_result"
    }
   ],
   "source": [
    "# sanity check on num of rows\n",
    "confidence_XYZ_df.shape[0] == confidence_XYZ_df1.shape[0]+confidence_XYZ_df2.shape[0]+confidence_XYZ_df3.shape[0]"
   ]
  },
  {
   "cell_type": "code",
   "execution_count": null,
   "metadata": {
    "id": "lEpgSqG_7tfE"
   },
   "outputs": [],
   "source": [
    "confidence_XYZ_df[\"confidence\"] = confidence_XYZ_df.pair_count / confidence_XYZ_df.count_XY"
   ]
  },
  {
   "cell_type": "code",
   "execution_count": null,
   "metadata": {
    "id": "FjORCob2-1Z7"
   },
   "outputs": [],
   "source": [
    "nrow = confidence_XYZ_df.shape[0]\n",
    "confidence_XYZ_df[\"item_X\"] = [confidence_XYZ_df.iloc[i].freq_pairs_XY[0] for i in range(nrow)]\n",
    "confidence_XYZ_df[\"item_Y\"] = [confidence_XYZ_df.iloc[i].freq_pairs_XY[1] for i in range(nrow)]"
   ]
  },
  {
   "cell_type": "code",
   "execution_count": null,
   "metadata": {
    "id": "-ggjSYOh_Co_"
   },
   "outputs": [],
   "source": [
    "confidence_XYZ_df[\"item_Z\"] = [list(set(confidence_XYZ_df.iloc[i].freq_pairs_XYZ)-set(confidence_XYZ_df.iloc[i].freq_pairs_XY))[0] for i in range(nrow)]"
   ]
  },
  {
   "cell_type": "code",
   "execution_count": null,
   "metadata": {
    "id": "V-_bnL3uBVgs"
   },
   "outputs": [],
   "source": [
    "confidence_XYZ_df.sort_values([\"confidence\", \"item_X\",\"item_Y\"], ascending = (False, True, True), inplace=True)"
   ]
  },
  {
   "cell_type": "code",
   "execution_count": null,
   "metadata": {
    "colab": {
     "base_uri": "https://localhost:8080/",
     "height": 136
    },
    "id": "OMcCtYmSBVmr",
    "outputId": "16f7774a-5fa9-4722-bd2d-3860db6aaf01"
   },
   "outputs": [
    {
     "name": "stdout",
     "output_type": "stream",
     "text": [
      "The top 5 rules for (X,Y) --> Z are:\n",
      "                     freq_pairs_XYZ         freq_pairs_XY    item_Z  confidence\n",
      "229  (DAI23334, DAI62779, ELE92920)  (DAI23334, ELE92920)  DAI62779         1.0\n",
      "137  (DAI31081, FRO40251, GRO85051)  (DAI31081, GRO85051)  FRO40251         1.0\n",
      "71   (DAI55911, FRO40251, GRO85051)  (DAI55911, GRO85051)  FRO40251         1.0\n",
      "17   (DAI62779, DAI88079, FRO40251)  (DAI62779, DAI88079)  FRO40251         1.0\n",
      "52   (DAI75645, FRO40251, GRO85051)  (DAI75645, GRO85051)  FRO40251         1.0\n"
     ]
    }
   ],
   "source": [
    "print(\"The top 5 rules for (X,Y) --> Z are:\")\n",
    "print(confidence_XYZ_df[[\"freq_pairs_XYZ\",\"freq_pairs_XY\", \"item_Z\", \"confidence\" ]].head(5))"
   ]
  }
 ],
 "metadata": {
  "colab": {
   "collapsed_sections": [],
   "name": "cse547hw1q2.ipynb",
   "provenance": [],
   "toc_visible": true
  },
  "kernelspec": {
   "display_name": "Python 3",
   "language": "python",
   "name": "python3"
  },
  "language_info": {
   "codemirror_mode": {
    "name": "ipython",
    "version": 3
   },
   "file_extension": ".py",
   "mimetype": "text/x-python",
   "name": "python",
   "nbconvert_exporter": "python",
   "pygments_lexer": "ipython3",
   "version": "3.7.6"
  }
 },
 "nbformat": 4,
 "nbformat_minor": 1
}
