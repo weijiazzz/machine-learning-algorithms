{
 "cells": [
  {
   "cell_type": "markdown",
   "metadata": {},
   "source": [
    "# People You Might Know"
   ]
  },
  {
   "cell_type": "markdown",
   "metadata": {},
   "source": [
    "In this notebook I will write a **Spark** program to implement a simple *People You Might Know* social network friendship recommendation algorithm. The key idea is that if two people have a lot of mutual friends, then the system should recommend that they connect with each other"
   ]
  },
  {
   "cell_type": "markdown",
   "metadata": {},
   "source": [
    "Here we assume a bidirectional relation; meaning that if A is a friend of B, then B is also a friend of A"
   ]
  },
  {
   "cell_type": "code",
   "execution_count": null,
   "metadata": {
    "colab": {
     "base_uri": "https://localhost:8080/",
     "height": 292
    },
    "id": "VBDGWVhMxXJM",
    "outputId": "cf074286-4649-4e2f-a025-edefca55cade"
   },
   "outputs": [
    {
     "name": "stdout",
     "output_type": "stream",
     "text": [
      "Collecting pyspark\n",
      "\u001b[?25l  Downloading https://files.pythonhosted.org/packages/9a/5a/271c416c1c2185b6cb0151b29a91fff6fcaed80173c8584ff6d20e46b465/pyspark-2.4.5.tar.gz (217.8MB)\n",
      "\u001b[K     |████████████████████████████████| 217.8MB 64kB/s \n",
      "\u001b[?25hCollecting py4j==0.10.7\n",
      "\u001b[?25l  Downloading https://files.pythonhosted.org/packages/e3/53/c737818eb9a7dc32a7cd4f1396e787bd94200c3997c72c1dbe028587bd76/py4j-0.10.7-py2.py3-none-any.whl (197kB)\n",
      "\u001b[K     |████████████████████████████████| 204kB 44.8MB/s \n",
      "\u001b[?25hBuilding wheels for collected packages: pyspark\n",
      "  Building wheel for pyspark (setup.py) ... \u001b[?25l\u001b[?25hdone\n",
      "  Created wheel for pyspark: filename=pyspark-2.4.5-py2.py3-none-any.whl size=218257927 sha256=e536147bf372a6683a67ba6570bf7197d1080ef9b2dceef3ccc733064cf9b018\n",
      "  Stored in directory: /root/.cache/pip/wheels/bf/db/04/61d66a5939364e756eb1c1be4ec5bdce6e04047fc7929a3c3c\n",
      "Successfully built pyspark\n",
      "Installing collected packages: py4j, pyspark\n",
      "Successfully installed py4j-0.10.7 pyspark-2.4.5\n",
      "openjdk-8-jdk-headless is already the newest version (8u242-b08-0ubuntu3~18.04).\n",
      "0 upgraded, 0 newly installed, 0 to remove and 25 not upgraded.\n"
     ]
    }
   ],
   "source": [
    "!pip install pyspark\n",
    "!pip install -U -q PyDrive\n",
    "!apt install openjdk-8-jdk-headless -qq\n",
    "import os\n",
    "os.environ[\"JAVA_HOME\"] = \"/usr/lib/jvm/java-8-openjdk-amd64\""
   ]
  },
  {
   "cell_type": "code",
   "execution_count": null,
   "metadata": {
    "id": "mKN0g3-lMzgd"
   },
   "outputs": [],
   "source": [
    "from pyspark.sql import *\n",
    "from pyspark.sql.functions import *\n",
    "from pyspark import SparkContext\n",
    "import pandas as pd\n",
    "\n",
    "# create the Spark Session\n",
    "spark = SparkSession.builder.getOrCreate()\n",
    "\n",
    "# create the Spark Context\n",
    "sc = spark.sparkContext"
   ]
  },
  {
   "cell_type": "markdown",
   "metadata": {
    "id": "AzzMKZldI9kk"
   },
   "source": [
    "## Load Data\n"
   ]
  },
  {
   "cell_type": "markdown",
   "metadata": {},
   "source": [
    "The file contains the adjacency list and has multiple lines in the following format:\n",
    "\n",
    "$<\\texttt{User}>, <\\texttt{TAB}>, <\\texttt{Friends}>$"
   ]
  },
  {
   "cell_type": "markdown",
   "metadata": {},
   "source": [
    "Here, $<\\texttt{User}>$ is a unique integer ID corresponding to a unique user and $<\\texttt{Friends}>$ is a comma separated list of unique IDs corresponding to the friends of the user with the unique ID $<\\texttt{User}>$. Note that the friendships are mutual."
   ]
  },
  {
   "cell_type": "code",
   "execution_count": null,
   "metadata": {
    "colab": {
     "base_uri": "https://localhost:8080/",
     "height": 71
    },
    "id": "2nH5Zagj8GDg",
    "outputId": "34fa0c5e-5a56-4aec-eecf-112d99fd51c6"
   },
   "outputs": [
    {
     "data": {
      "text/plain": [
       "['0\\t1,2,3,4,5,6,7,8,9,10,11,12,13,14,15,16,17,18,19,20,21,22,23,24,25,26,27,28,29,30,31,32,33,34,35,36,37,38,39,40,41,42,43,44,45,46,47,48,49,50,51,52,53,54,55,56,57,58,59,60,61,62,63,64,65,66,67,68,69,70,71,72,73,74,75,76,77,78,79,80,81,82,83,84,85,86,87,88,89,90,91,92,93,94',\n",
       " '1\\t0,5,20,135,2409,8715,8932,10623,12347,12846,13840,13845,14005,20075,21556,22939,23520,28193,29724,29791,29826,30691,31232,31435,32317,32489,34394,35589,35605,35606,35613,35633,35648,35678,38737,43447,44846,44887,49226,49985,623,629,4999,6156,13912,14248,15190,17636,19217,20074,27536,29481,29726,29767,30257,33060,34250,34280,34392,34406,34418,34420,34439,34450,34651,45054,49592']"
      ]
     },
     "execution_count": 3,
     "metadata": {
      "tags": []
     },
     "output_type": "execute_result"
    }
   ],
   "source": [
    "dat = sc.textFile(\"soc-LiveJournal1Adj.txt\")\n",
    "dat.take(2)"
   ]
  },
  {
   "cell_type": "markdown",
   "metadata": {},
   "source": [
    "## Data Pre-processing"
   ]
  },
  {
   "cell_type": "code",
   "execution_count": null,
   "metadata": {
    "colab": {
     "base_uri": "https://localhost:8080/",
     "height": 105
    },
    "id": "a1ohS9IT8GQ_",
    "outputId": "9c3f87fc-3277-45bc-aba5-0967e94802c4"
   },
   "outputs": [
    {
     "data": {
      "text/plain": [
       "[['0',\n",
       "  '1,2,3,4,5,6,7,8,9,10,11,12,13,14,15,16,17,18,19,20,21,22,23,24,25,26,27,28,29,30,31,32,33,34,35,36,37,38,39,40,41,42,43,44,45,46,47,48,49,50,51,52,53,54,55,56,57,58,59,60,61,62,63,64,65,66,67,68,69,70,71,72,73,74,75,76,77,78,79,80,81,82,83,84,85,86,87,88,89,90,91,92,93,94'],\n",
       " ['1',\n",
       "  '0,5,20,135,2409,8715,8932,10623,12347,12846,13840,13845,14005,20075,21556,22939,23520,28193,29724,29791,29826,30691,31232,31435,32317,32489,34394,35589,35605,35606,35613,35633,35648,35678,38737,43447,44846,44887,49226,49985,623,629,4999,6156,13912,14248,15190,17636,19217,20074,27536,29481,29726,29767,30257,33060,34250,34280,34392,34406,34418,34420,34439,34450,34651,45054,49592']]"
      ]
     },
     "execution_count": 4,
     "metadata": {
      "tags": []
     },
     "output_type": "execute_result"
    }
   ],
   "source": [
    "# split into users and friends\n",
    "dat_split = dat.map(lambda x: x.split(\"\\t\"))\n",
    "dat_split.take(2)"
   ]
  },
  {
   "cell_type": "code",
   "execution_count": null,
   "metadata": {
    "id": "UIb95tHdB-SX"
   },
   "outputs": [],
   "source": [
    "# convert str into list for friends\n",
    "friends_list = dat_split.map(lambda x: (x[0], x[1].split(\",\")))\n",
    "friends_list.take(1)"
   ]
  },
  {
   "cell_type": "code",
   "execution_count": null,
   "metadata": {
    "colab": {
     "base_uri": "https://localhost:8080/",
     "height": 34
    },
    "id": "XcO0gkeAB_eu",
    "outputId": "e2760e83-723a-424a-8646-0ebbf8c02c35"
   },
   "outputs": [
    {
     "data": {
      "text/plain": [
       "[('0', '1'), ('0', '2'), ('0', '3'), ('0', '4'), ('0', '5')]"
      ]
     },
     "execution_count": 10,
     "metadata": {
      "tags": []
     },
     "output_type": "execute_result"
    }
   ],
   "source": [
    "# construct directional friends pairs (a,b) such that a is a friend of b\n",
    "friend_pairs = friends_list.flatMap(lambda x: [(x[0], i) for i in x[1]])\n",
    "friend_pairs.take(5)"
   ]
  },
  {
   "cell_type": "code",
   "execution_count": null,
   "metadata": {
    "id": "1Et9oqch8GcQ"
   },
   "outputs": [],
   "source": [
    "# add column names to data for JOIN\n",
    "friend_pairs_df = friend_pairs.toDF((\"UserA\",\"UserB\"))\n",
    "dat_df = dat_split.toDF((\"User\", \"Friends\"))"
   ]
  },
  {
   "cell_type": "code",
   "execution_count": null,
   "metadata": {
    "colab": {
     "base_uri": "https://localhost:8080/",
     "height": 289
    },
    "id": "7-HxdnRhNmmn",
    "outputId": "7d04a891-3d43-4f1b-a710-8743a9177741"
   },
   "outputs": [
    {
     "name": "stdout",
     "output_type": "stream",
     "text": [
      "+-----+-----+\n",
      "|UserA|UserB|\n",
      "+-----+-----+\n",
      "|    0|    1|\n",
      "|    0|    2|\n",
      "+-----+-----+\n",
      "only showing top 2 rows\n",
      "\n",
      "+----+--------------------+\n",
      "|User|             Friends|\n",
      "+----+--------------------+\n",
      "|   0|1,2,3,4,5,6,7,8,9...|\n",
      "|   1|0,5,20,135,2409,8...|\n",
      "+----+--------------------+\n",
      "only showing top 2 rows\n",
      "\n"
     ]
    }
   ],
   "source": [
    "friend_pairs_df.show(2)\n",
    "dat_df.show(2)"
   ]
  },
  {
   "cell_type": "markdown",
   "metadata": {},
   "source": [
    "## Friends Recommendation"
   ]
  },
  {
   "cell_type": "code",
   "execution_count": null,
   "metadata": {
    "id": "ugtJza-JO6bB"
   },
   "outputs": [],
   "source": [
    "# join friend_pairs_df and dat_df twice to get friends of user A and friends of user B\n",
    "friends_df1 = friend_pairs_df.join(dat_df, friend_pairs_df.UserA==dat_df.User, how=\"inner\") \\\n",
    "                             .drop(\"User\") \\\n",
    "                             .withColumnRenamed(\"Friends\", \"FriendsOfUserA\") \n",
    "friends_df1.show()\n",
    "friends_df = friends_df1.join(dat_df, friends_df1.UserB==dat_df.User, how=\"inner\") \\\n",
    "                        .drop(\"User\") \\\n",
    "                        .withColumnRenamed(\"Friends\", \"FriendsOfUserB\") \n",
    "friends_df.show()"
   ]
  },
  {
   "cell_type": "code",
   "execution_count": null,
   "metadata": {
    "colab": {
     "base_uri": "https://localhost:8080/",
     "height": 71
    },
    "id": "wow7LDh88GxH",
    "outputId": "5330bcc2-360e-43a4-a21f-a7172d6adabe"
   },
   "outputs": [
    {
     "data": {
      "text/plain": [
       "[Row(UserA='37246', UserB='10096', FriendsOfUserA='10063,10100,36729,36862,36868,36894,36903,36919,36955,37044,37085,37155,37167,10021,10040,10096,10135,36701,36817,37047,37061,37069,37096,37168,37296,37337,37426,37511,37823,38479,40824,44132,37559,37743', FriendsOfUserB='10000,10008,10010,10026,10039,10053,10072,10093,10103,10114,10123,10142,36683,36687,36693,36717,36720,36728,36811,36817,36905,36947,37068,37135,37156,37167,37170,44050,44053,44094,10097,21567,22115,25200,36678,36688,36703,36707,36723,36738,36752,36765,36777,36780,36788,36799,36800,36801,36816,36824,36827,36836,36840,36841,36847,36875,36887,36889,36892,36908,36936,36952,36962,36980,36988,37000,37006,37020,37035,37041,37060,37070,37140,37148,37168,37220,37221,37231,37246,37253,37326,37385,37438,37459,37485,37493,37518,37575,37613,37665,37707,37725,37750,37779,37806,37812,44083,44149,44548'),\n",
       " Row(UserA='10114', UserB='10096', FriendsOfUserA='1135,10000,10018,10021,10026,10068,10072,10078,10086,10093,10095,10096,10097,10103,1689,10135,15370,15383,27808,36669,36679,36707,36764,36817,36826,36827,36836,36848,36868,36892,36894,36905,36947,36952,36966,36979,37009,37035,37085,37089,37135,37150,37170,37186,37197,37580,37618,41851,41900,44049,44077,44083,44089,44101,44167,44178,10123,14794,19365,23266,30304,36672,36675,36676,36678,36680,36688,36693,36696,36708,36711,36728,36735,36742,36752,36759,36765,36816,36818,36831,36840,36847,36854,36855,36859,36869,36870,36908,36934,36942,36955,36978,36982,36985,36988,36992,36997,37006,37011,37018', FriendsOfUserB='10000,10008,10010,10026,10039,10053,10072,10093,10103,10114,10123,10142,36683,36687,36693,36717,36720,36728,36811,36817,36905,36947,37068,37135,37156,37167,37170,44050,44053,44094,10097,21567,22115,25200,36678,36688,36703,36707,36723,36738,36752,36765,36777,36780,36788,36799,36800,36801,36816,36824,36827,36836,36840,36841,36847,36875,36887,36889,36892,36908,36936,36952,36962,36980,36988,37000,37006,37020,37035,37041,37060,37070,37140,37148,37168,37220,37221,37231,37246,37253,37326,37385,37438,37459,37485,37493,37518,37575,37613,37665,37707,37725,37750,37779,37806,37812,44083,44149,44548')]"
      ]
     },
     "execution_count": 26,
     "metadata": {
      "tags": []
     },
     "output_type": "execute_result"
    }
   ],
   "source": [
    "friends_rdd = friends_df.rdd\n",
    "friends_rdd.take(2)"
   ]
  },
  {
   "cell_type": "code",
   "execution_count": null,
   "metadata": {
    "id": "yxhuk67a_mYV"
   },
   "outputs": [],
   "source": [
    "# convert str to list for FriendsOfUserA and FriendsOfUserB\n",
    "friends_two_lists = friends_rdd.map(lambda x: [x[0], x[1], x[2].split(\",\"), x[3].split(\",\")])\n",
    "friends_two_lists.take(1)"
   ]
  },
  {
   "cell_type": "code",
   "execution_count": null,
   "metadata": {
    "id": "uCdDzNsOCD-J"
   },
   "outputs": [],
   "source": [
    "# extract friends of b but not a (2nd order nonconnected friends of a)\n",
    "friends_diff = friends_two_lists.map(lambda x: (x[0], list(set(x[3]) - set(x[2]))))\n",
    "friends_diff.take(1)"
   ]
  },
  {
   "cell_type": "code",
   "execution_count": null,
   "metadata": {
    "id": "ZRJUtya3CFl2"
   },
   "outputs": [],
   "source": [
    "# put all such friends together in a row correpsonding to each user \n",
    "friends_diff_total = friends_diff.reduceByKey(lambda a,b:a+b)\n",
    "friends_diff_total.take(1)"
   ]
  },
  {
   "cell_type": "code",
   "execution_count": null,
   "metadata": {
    "id": "x8YxAM2pHBqH"
   },
   "outputs": [],
   "source": [
    "# take out user a itself\n",
    "friends_diff_total_exclude_self = friends_diff_total.map(lambda x: (x[0], [int(i) for i in x[1] if i not in x[0]]))\n",
    "friends_diff_total_exclude_self.take(1)"
   ]
  },
  {
   "cell_type": "code",
   "execution_count": null,
   "metadata": {
    "colab": {
     "base_uri": "https://localhost:8080/",
     "height": 34
    },
    "id": "1BbcFm08R4p0",
    "outputId": "41f1dfc6-a014-4379-bd0e-0266e3e49112"
   },
   "outputs": [
    {
     "data": {
      "text/plain": [
       "False"
      ]
     },
     "execution_count": 45,
     "metadata": {
      "tags": []
     },
     "output_type": "execute_result"
    }
   ],
   "source": [
    "# sanity check: \n",
    "# expect the following code to return False\n",
    "friends_diff_total_exclude_self.take(1)[0][1] in friends_diff_total_exclude_self.take(1)[0][1]"
   ]
  },
  {
   "cell_type": "code",
   "execution_count": null,
   "metadata": {
    "id": "XIt4Z9R__mhy"
   },
   "outputs": [],
   "source": [
    "# count occurrence of each 2nd-order nonconnected friends of each user\n",
    "from collections import Counter\n",
    "friends_diff_total_count = friends_diff_total_exclude_self.map(lambda x: (x[0], Counter(x[1]).most_common()))\n",
    "friends_diff_total_count.take(1)"
   ]
  },
  {
   "cell_type": "code",
   "execution_count": null,
   "metadata": {
    "colab": {
     "base_uri": "https://localhost:8080/",
     "height": 221
    },
    "id": "7Z7IqrjgmUTd",
    "outputId": "7451c995-95d7-49b0-b293-9539c4d5edad"
   },
   "outputs": [
    {
     "data": {
      "text/plain": [
       "[('10142', 37135    15\n",
       "  36905    12\n",
       "  36811    12\n",
       "  36683    10\n",
       "  10114    10\n",
       "           ..\n",
       "  36944     1\n",
       "  36711     1\n",
       "  44144     1\n",
       "  37112     1\n",
       "  36921     1\n",
       "  Length: 564, dtype: int64)]"
      ]
     },
     "execution_count": 48,
     "metadata": {
      "tags": []
     },
     "output_type": "execute_result"
    }
   ],
   "source": [
    "# convert the friends and counts into a panda Series\n",
    "friends_pd_series = friends_diff_total_count.map(lambda x: (x[0], pd.Series(dict(x[1]))))\n",
    "friends_pd_series.take(1)"
   ]
  },
  {
   "cell_type": "code",
   "execution_count": null,
   "metadata": {
    "colab": {
     "base_uri": "https://localhost:8080/",
     "height": 221
    },
    "id": "6YqhpPsjmUjL",
    "outputId": "8568218a-d734-4689-8cb6-b14fa87dd8b1"
   },
   "outputs": [
    {
     "data": {
      "text/plain": [
       "[('10142', 37135    15\n",
       "  36811    12\n",
       "  36905    12\n",
       "  10103    10\n",
       "  10114    10\n",
       "           ..\n",
       "  44204     1\n",
       "  44205     1\n",
       "  44215     1\n",
       "  44241     1\n",
       "  44537     1\n",
       "  Length: 564, dtype: int64)]"
      ]
     },
     "execution_count": 49,
     "metadata": {
      "tags": []
     },
     "output_type": "execute_result"
    }
   ],
   "source": [
    "# sort recommendations by number of common friends (desc) first, then the user ID (asc)\n",
    "import numpy as np \n",
    "friends_pd_series_sorted = friends_pd_series.map(lambda x: (x[0], x[1].iloc[np.lexsort([x[1].keys(), -x[1].values])]))\n",
    "friends_pd_series_sorted.take(1)"
   ]
  },
  {
   "cell_type": "code",
   "execution_count": null,
   "metadata": {
    "colab": {
     "base_uri": "https://localhost:8080/",
     "height": 204
    },
    "id": "DxnYdRgkmyDo",
    "outputId": "4262d560-e8f5-4cbc-81c4-0212e264cd26"
   },
   "outputs": [
    {
     "data": {
      "text/plain": [
       "[('10142', 37135    15\n",
       "  36811    12\n",
       "  36905    12\n",
       "  10103    10\n",
       "  10114    10\n",
       "  36679    10\n",
       "  36683    10\n",
       "  37156    10\n",
       "  10000     9\n",
       "  36669     9\n",
       "  dtype: int64)]"
      ]
     },
     "execution_count": 50,
     "metadata": {
      "tags": []
     },
     "output_type": "execute_result"
    }
   ],
   "source": [
    "# extract top 10 2nd-order nonconnected friends\n",
    "top_10_friends = friends_pd_series_sorted.map(lambda x: (x[0],x[1][:10]))\n",
    "top_10_friends.take(1)"
   ]
  },
  {
   "cell_type": "code",
   "execution_count": null,
   "metadata": {
    "colab": {
     "base_uri": "https://localhost:8080/",
     "height": 51
    },
    "id": "UIVjX3ajmyNJ",
    "outputId": "5ec93d73-121e-4b7b-d515-6d93ce207f72"
   },
   "outputs": [
    {
     "data": {
      "text/plain": [
       "[('10142',\n",
       "  [37135, 36811, 36905, 10103, 10114, 36679, 36683, 37156, 10000, 36669])]"
      ]
     },
     "execution_count": 51,
     "metadata": {
      "tags": []
     },
     "output_type": "execute_result"
    }
   ],
   "source": [
    "# discard count, just keep friend IDs\n",
    "recommends = top_10_friends.map(lambda x: (x[0], [i[1] for i in list(zip(x[1], x[1].index))]))\n",
    "recommends.take(1)"
   ]
  },
  {
   "cell_type": "code",
   "execution_count": null,
   "metadata": {
    "colab": {
     "base_uri": "https://localhost:8080/",
     "height": 34
    },
    "id": "gdhsJkSYE8Yx",
    "outputId": "edee09e4-dedb-41ea-ab4b-4125d4968024"
   },
   "outputs": [
    {
     "data": {
      "text/plain": [
       "[('11', [27552, 7785, 27573, 27574, 27589, 27590, 27600, 27617, 27620, 27667])]"
      ]
     },
     "execution_count": 52,
     "metadata": {
      "tags": []
     },
     "output_type": "execute_result"
    }
   ],
   "source": [
    "# sanity check\n",
    "# expect to see \"27552,7785,27573,27574,27589,27590,27600,27617,27620,27667\"\n",
    "test = recommends.filter(lambda x: x[0]=='11')\n",
    "test.take(1)"
   ]
  },
  {
   "cell_type": "code",
   "execution_count": null,
   "metadata": {
    "colab": {
     "base_uri": "https://localhost:8080/",
     "height": 34
    },
    "id": "g7m7adVOYZvD",
    "outputId": "ae860058-27a4-4804-c228-733bf1058641"
   },
   "outputs": [
    {
     "data": {
      "text/plain": [
       "[('11', [27552, 7785, 27573, 27574, 27589, 27590, 27600, 27617, 27620, 27667])]"
      ]
     },
     "execution_count": 53,
     "metadata": {
      "tags": []
     },
     "output_type": "execute_result"
    }
   ],
   "source": [
    "# recommends for write-up\n",
    "targets = ['924', '8941', '8942', '9019','9020', '9021','9022', '9990', '9992','9993']\n",
    "tests = recommends.filter(lambda x: x[0] in targets)\n",
    "tests.take(10)"
   ]
  },
  {
   "cell_type": "code",
   "execution_count": null,
   "metadata": {
    "colab": {
     "base_uri": "https://localhost:8080/",
     "height": 51
    },
    "id": "knRQ_fW1C9xe",
    "outputId": "14280b3c-f459-4c24-9ff1-d3ca1b489122"
   },
   "outputs": [
    {
     "data": {
      "text/plain": [
       "[['10142',\n",
       "  [37135, 36811, 36905, 10103, 10114, 36679, 36683, 37156, 10000, 36669]]]"
      ]
     },
     "execution_count": 55,
     "metadata": {
      "tags": []
     },
     "output_type": "execute_result"
    }
   ],
   "source": [
    "# format output\n",
    "recommends_int_id = recommends.map(lambda x: [x[0], [int(i) for i in x[1]]])\n",
    "recommends_int_id.take(1)"
   ]
  },
  {
   "cell_type": "code",
   "execution_count": null,
   "metadata": {
    "colab": {
     "base_uri": "https://localhost:8080/",
     "height": 51
    },
    "id": "fZHKiz00SXXB",
    "outputId": "56f298a5-4a49-4302-af47-c4466ddb233d"
   },
   "outputs": [
    {
     "data": {
      "text/plain": [
       "[['10142',\n",
       "  '37135, 36811, 36905, 10103, 10114, 36679, 36683, 37156, 10000, 36669']]"
      ]
     },
     "execution_count": 56,
     "metadata": {
      "tags": []
     },
     "output_type": "execute_result"
    }
   ],
   "source": [
    "recommends_strip_bracket = recommends_int_id.map(lambda x: [x[0], str(x[1]).strip('[]')])\n",
    "recommends_strip_bracket.take(1)"
   ]
  },
  {
   "cell_type": "code",
   "execution_count": null,
   "metadata": {
    "colab": {
     "base_uri": "https://localhost:8080/",
     "height": 51
    },
    "id": "L-QJDXr9SYaO",
    "outputId": "b16c8567-3a15-4772-b00f-0dff7ec63177"
   },
   "outputs": [
    {
     "data": {
      "text/plain": [
       "['10142\\t37135, 36811, 36905, 10103, 10114, 36679, 36683, 37156, 10000, 36669',\n",
       " '36947\\t36936, 36908, 10000, 36665, 36988, 10028, 37170, 36836, 37070, 37168']"
      ]
     },
     "execution_count": 57,
     "metadata": {
      "tags": []
     },
     "output_type": "execute_result"
    }
   ],
   "source": [
    "recommends_deliverable = recommends_strip_bracket.map(lambda x: x[0]+'\\t'+x[1])\n",
    "recommends_deliverable.take(2)"
   ]
  },
  {
   "cell_type": "code",
   "execution_count": null,
   "metadata": {
    "id": "wxViFhksDla_"
   },
   "outputs": [],
   "source": [
    " recommends_deliverable.coalesce(1).saveAsTextFile(\"Q1_output\")"
   ]
  }
 ],
 "metadata": {
  "colab": {
   "collapsed_sections": [],
   "name": "cse547hw1q1.ipynb",
   "provenance": [],
   "toc_visible": true
  },
  "kernelspec": {
   "display_name": "Python 3",
   "language": "python",
   "name": "python3"
  },
  "language_info": {
   "codemirror_mode": {
    "name": "ipython",
    "version": 3
   },
   "file_extension": ".py",
   "mimetype": "text/x-python",
   "name": "python",
   "nbconvert_exporter": "python",
   "pygments_lexer": "ipython3",
   "version": "3.7.6"
  }
 },
 "nbformat": 4,
 "nbformat_minor": 1
}
